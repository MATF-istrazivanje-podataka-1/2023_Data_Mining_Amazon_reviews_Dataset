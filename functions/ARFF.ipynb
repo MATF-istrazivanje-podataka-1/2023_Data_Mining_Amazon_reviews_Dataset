{
 "cells": [
  {
   "cell_type": "code",
   "execution_count": 8,
   "id": "31135e77",
   "metadata": {},
   "outputs": [],
   "source": [
    "import numpy as np\n",
    "import pandas as pd\n",
    "# Reading the arff file and checking for missing or invalid data\n",
    "def load_arff_data(arff_file_path):\n",
    "    attributes = []\n",
    "    classes = []\n",
    "    data = []\n",
    "    duplicate_attributes = {}\n",
    "    with open(arff_file_path, 'r') as af:\n",
    "        reading_data = False\n",
    "        attribute_index = 0\n",
    "        while True:\n",
    "            line = af.readline()\n",
    "            if not line:\n",
    "                break\n",
    "            line = line.replace('\\n', '')\n",
    "            words = line.split(' ')\n",
    "            if reading_data == False:\n",
    "                if words[0] == '@data':\n",
    "                    reading_data = True\n",
    "                    continue\n",
    "                elif words[0] == '@attribute':\n",
    "                    if words[1] == 'class':\n",
    "                        classes = [c for c in words[2].replace('{','').replace('}','').split(',')]\n",
    "                        attributes.append('class')\n",
    "                        # check if each class has a unique name\n",
    "                        if len(classes) != len(set(classes)):\n",
    "                            print(\"There are duplicates in the list of classes\")\n",
    "                            classes = set(classes)\n",
    "                    else:\n",
    "                        attribute = \" \".join(words[1:])\n",
    "                        if attribute in attributes:\n",
    "                            print(\"There is duplicate attribute: \" + attribute)\n",
    "                            duplicate_attributes[attribute_index] = attributes.index(attribute)\n",
    "                        else:\n",
    "                            attributes.append(attribute)\n",
    "                    attribute_index += 1\n",
    "                    continue\n",
    "            if reading_data:\n",
    "                values = words[0].split(',')\n",
    "                if values[-1] not in classes:\n",
    "                    # if class value is not in the classes list => skip\n",
    "                    print(values[-1] + \" is not one of the classes\")\n",
    "                    continue\n",
    "                # remove values from duplicated attributes\n",
    "                row = [x for i, x in enumerate(values) if i not in duplicate_attributes.keys()]\n",
    "                for key, value in duplicate_attributes.items():\n",
    "                    row[value] = int(row[value]) + int(values[key])\n",
    "                data.append(row)\n",
    "    return (data, attributes, classes)"
   ]
  }
 ],
 "metadata": {
  "kernelspec": {
   "display_name": "Python 3 (ipykernel)",
   "language": "python",
   "name": "python3"
  },
  "language_info": {
   "codemirror_mode": {
    "name": "ipython",
    "version": 3
   },
   "file_extension": ".py",
   "mimetype": "text/x-python",
   "name": "python",
   "nbconvert_exporter": "python",
   "pygments_lexer": "ipython3",
   "version": "3.10.7"
  }
 },
 "nbformat": 4,
 "nbformat_minor": 5
}
