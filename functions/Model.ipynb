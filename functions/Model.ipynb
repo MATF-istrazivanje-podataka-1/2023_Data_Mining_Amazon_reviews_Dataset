{
 "cells": [
  {
   "cell_type": "code",
   "execution_count": 1,
   "id": "736c093e",
   "metadata": {},
   "outputs": [],
   "source": [
    "from sklearn.metrics import confusion_matrix, accuracy_score, precision_score, recall_score, f1_score\n",
    "from sklearn.model_selection import GridSearchCV"
   ]
  },
  {
   "cell_type": "code",
   "execution_count": 2,
   "id": "ddd82a46",
   "metadata": {},
   "outputs": [],
   "source": [
    "def return_as_list_for_printing(list):\n",
    "    return \"[\" + \", \".join([str(round(score, 2)) for score in list]) + \"]\""
   ]
  },
  {
   "cell_type": "code",
   "execution_count": 3,
   "id": "f1188ec3",
   "metadata": {},
   "outputs": [],
   "source": [
    "def model_info(Y_real, Y_pred):\n",
    "    print('Confusion matrix: \\n', confusion_matrix(Y_real, Y_pred))\n",
    "    print('Accuracy score: \\n', accuracy_score(Y_real, Y_pred))\n",
    "    print('Precision score: \\n', return_as_list_for_printing(precision_score(Y_real, Y_pred, average=None, zero_division=1)))\n",
    "    print('Recall score: \\n', return_as_list_for_printing(recall_score(Y_real, Y_pred, average=None, zero_division=1)))\n",
    "    print('F1 score: \\n', return_as_list_for_printing(f1_score(Y_real, Y_pred, average=None, zero_division=1)))"
   ]
  },
  {
   "cell_type": "code",
   "execution_count": 4,
   "id": "669e4a75",
   "metadata": {},
   "outputs": [],
   "source": [
    "def build_model(model, X_train, X_test, Y_train, Y_test):\n",
    "    model.fit(X_train, Y_train)\n",
    "\n",
    "    print('Train data:')\n",
    "    Y_train_pred = model.predict(X_train)\n",
    "    model_info(Y_train, Y_train_pred)\n",
    "    \n",
    "    print('#'*100)\n",
    "\n",
    "    print('Test data:')\n",
    "    Y_pred = model.predict(X_test)\n",
    "    model_info(Y_test, Y_pred)\n",
    "\n",
    "    return model"
   ]
  },
  {
   "cell_type": "code",
   "execution_count": 5,
   "id": "12d70945",
   "metadata": {},
   "outputs": [],
   "source": [
    "def build_model_c(model, X_train, X_test, Y_train, Y_test):\n",
    "    print(model)\n",
    "    model.fit(X_train, Y_train)\n",
    "\n",
    "    print('Train data:')\n",
    "    Y_train_pred = model.predict(X_train)\n",
    "    model_info(Y_train, Y_train_pred)\n",
    "    \n",
    "    print('*'*100)\n",
    "\n",
    "    print('Test data:')\n",
    "    Y_pred = model.predict(X_test)\n",
    "    model_info(Y_test, Y_pred)\n",
    "\n",
    "    return model, Y_train_pred, Y_pred"
   ]
  }
 ],
 "metadata": {
  "kernelspec": {
   "display_name": "Python 3 (ipykernel)",
   "language": "python",
   "name": "python3"
  },
  "language_info": {
   "codemirror_mode": {
    "name": "ipython",
    "version": 3
   },
   "file_extension": ".py",
   "mimetype": "text/x-python",
   "name": "python",
   "nbconvert_exporter": "python",
   "pygments_lexer": "ipython3",
   "version": "3.10.7"
  }
 },
 "nbformat": 4,
 "nbformat_minor": 5
}
